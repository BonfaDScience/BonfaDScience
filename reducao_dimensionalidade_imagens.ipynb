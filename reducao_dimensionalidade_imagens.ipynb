{
  "nbformat": 4,
  "nbformat_minor": 0,
  "metadata": {
    "colab": {
      "provenance": [],
      "authorship_tag": "ABX9TyO4S9b+e8fd4ZRzfQ6vox34",
      "include_colab_link": true
    },
    "kernelspec": {
      "name": "python3",
      "display_name": "Python 3"
    },
    "language_info": {
      "name": "python"
    }
  },
  "cells": [
    {
      "cell_type": "markdown",
      "metadata": {
        "id": "view-in-github",
        "colab_type": "text"
      },
      "source": [
        "<a href=\"https://colab.research.google.com/github/BonfaDScience/BonfaDScience/blob/main/reducao_dimensionalidade_imagens.ipynb\" target=\"_parent\"><img src=\"https://colab.research.google.com/assets/colab-badge.svg\" alt=\"Open In Colab\"/></a>"
      ]
    },
    {
      "cell_type": "code",
      "execution_count": 18,
      "metadata": {
        "id": "WET3ZacBh5mO"
      },
      "outputs": [],
      "source": [
        "# Leitura e manipulação da imagem PPM\n",
        "from PIL import Image # Importa a biblioteca PIL para processamento de imagens\n",
        "\n",
        "def read_ppm(filename):\n",
        "    \"\"\"Lê uma imagem no formato PPM (P6) ou no formato jpeg e retorna a largura, a altura e as info pixel.\"\"\"\n",
        "    try:\n",
        "        # Tenta abrir um arquivo PPM primeiro\n",
        "        with open(filename, 'rb') as f:\n",
        "            header = f.readline().decode()  # Verifica se é um P6\n",
        "            if header.strip() != 'P6':\n",
        "                raise ValueError(\"Não é um arquivo PPM P6\")\n",
        "\n",
        "            # Leitura dos metadados da imagem (largura, altura, valor máximo da cor)\n",
        "            while True:\n",
        "                line = f.readline().decode()\n",
        "                if line.startswith('#'):  # Ignora os comentários\n",
        "                    continue\n",
        "                width, height = map(int, line.split())\n",
        "                break\n",
        "\n",
        "            max_val = int(f.readline().decode().strip())  # Lê o valor máximo das cores (p.e., 255)\n",
        "            if max_val != 255:\n",
        "                raise ValueError(\"Apenas o valor máximo de 255 é válido.\")\n",
        "\n",
        "            # Lê as info dos pixels (binário)\n",
        "            pixel_data = f.read()\n",
        "\n",
        "        return width, height, pixel_data\n",
        "    except UnicodeDecodeError:\n",
        "        # Se a leitura do PPM falhar, tentará abrir como jpeg usando o PIL\n",
        "        img = Image.open(filename)\n",
        "        # Converte para RGB se necessário\n",
        "        img = img.convert(\"RGB\")\n",
        "        # Determina as dimensões da imagem\n",
        "        width, height = img.size\n",
        "        # Determina as info pixel em bytes\n",
        "        pixel_data = img.tobytes()\n",
        "        return width, height, pixel_data"
      ]
    },
    {
      "cell_type": "code",
      "source": [
        "# Conversão RGB para tons de cinza\n",
        "\n",
        "def rgb_to_grayscale(pixel_data):\n",
        "    \"\"\"Converte as informações RGB dos pixels em escala de cinza usando a fórmula de luminância (quantifica o brilho de uma cor ou de um pixel para determinar o nível de cinza de cada pixel).\"\"\"\n",
        "    grayscale_data = bytearray()\n",
        "    for i in range(0, len(pixel_data), 3):\n",
        "        r, g, b = pixel_data[i], pixel_data[i+1], pixel_data[i+2]\n",
        "        # Fórmula da luminância para conversão em escala de cinza\n",
        "        gray = int(0.299 * r + 0.587 * g + 0.114 * b)\n",
        "        grayscale_data.extend([gray, gray, gray])\n",
        "    return grayscale_data"
      ],
      "metadata": {
        "id": "c1bMNZj0lAmB"
      },
      "execution_count": 19,
      "outputs": []
    },
    {
      "cell_type": "code",
      "source": [
        "# Conversão de cinza para preto e branco\n",
        "\n",
        "def grayscale_to_binary(grayscale_data, threshold=128):\n",
        "    \"\"\"Converte a imagem em escala de cinza em binário (preto e branco) usando um corte(128).\"\"\"\n",
        "    binary_data = bytearray()\n",
        "    for i in range(0, len(grayscale_data), 3):\n",
        "        gray = grayscale_data[i]  # Pega qualquer canal, desde que em escala de cinza\n",
        "        value = 255 if gray > threshold else 0  # Binarização ocorre aqui\n",
        "        binary_data.extend([value, value, value])\n",
        "    return binary_data"
      ],
      "metadata": {
        "id": "fmnq6cAwlFVV"
      },
      "execution_count": 20,
      "outputs": []
    },
    {
      "cell_type": "code",
      "source": [
        "# Salvando imagem em formato PPM\n",
        "\n",
        "def save_ppm(filename, width, height, pixel_data):\n",
        "    \"\"\"Salva as infos pixel num arquivo PPM (P6).\"\"\"\n",
        "    with open(filename, 'wb') as f:\n",
        "        f.write(f'P6\\n{width} {height}\\n255\\n'.encode())\n",
        "        f.write(pixel_data)"
      ],
      "metadata": {
        "id": "52ygbrDhlIsq"
      },
      "execution_count": 21,
      "outputs": []
    },
    {
      "cell_type": "code",
      "source": [
        "# Salvando imagens processadas em PPM e PNG\n",
        "\n",
        "import requests\n",
        "from PIL import Image\n",
        "from io import BytesIO\n",
        "from google.colab import files\n",
        "\n",
        "def download_image(url):\n",
        "    \"\"\"Download da imagem à partir de uma URL retorna largura, altura e info pixel.\"\"\"\n",
        "    response = requests.get(url)\n",
        "    if response.status_code == 200:\n",
        "        img = Image.open(BytesIO(response.content))\n",
        "        img = img.convert(\"RGB\")  # Garantir que está em RGB\n",
        "        width, height = img.size\n",
        "        pixel_data = img.tobytes()  # Converter para bytes\n",
        "        return width, height, pixel_data\n",
        "    else:\n",
        "        raise ValueError(\"Falha ao fazer o download da imagem\")\n",
        "\n",
        "def save_as_ppm(filename, width, height, pixel_data):\n",
        "    \"\"\"Salva as infos do pixel em uma imagem PPM (P6).\"\"\"\n",
        "    with open(filename, 'wb') as f:\n",
        "        f.write(f'P6\\n{width} {height}\\n255\\n'.encode())  # PPM header\n",
        "        f.write(bytes(pixel_data))  # Escreve as informações pixel no formato binário\n",
        "\n",
        "def save_as_png(filename, width, height, pixel_data):\n",
        "    \"\"\"Salva as infos RGB do pixel no formato .png.\"\"\"\n",
        "    img = Image.frombytes('RGB', (width, height), bytes(pixel_data))\n",
        "    img.save(filename, format='PNG')\n",
        "\n",
        "# #Caso queira fazer upload da imagem (PPM ou JPEG) à partir da própria máquina do usuário\n",
        "# uploaded = files.upload()\n",
        "# input_image = list(uploaded.keys())[0]\n",
        "# width, height, pixel_data = read_ppm(input_image)\n",
        "\n",
        "# URL da imagem\n",
        "#fiz testes lendo a imagem diretamente do seu site\n",
        "#image_url = \"https://thumbs.dreamstime.com/b/morena-baccarin-23574798.jpg\"\n",
        "image_url = \"https://m.media-amazon.com/images/M/MV5BMDliNjQxZmQtZDM2ZS00MzEwLTliMjQtYTlmYTdiYTI3OWIyXkEyXkFqcGc@._V1_FMjpg_UX1000_.jpg\"\n",
        "#image_url = \"https://external-preview.redd.it/N2mrfYNmoB0THixU4kU9V9sSkb60_rCWULeBFqvdaH4.jpg?width=640&crop=smart&auto=webp&s=7dd3f96f485cad603f4a96793a521ebcded7466c\"\n",
        "\n",
        "# Baixando a imagem da URL\n",
        "width, height, pixel_data = download_image(image_url)\n",
        "\n",
        "# Processamento da imagem\n",
        "grayscale_data = rgb_to_grayscale(pixel_data)\n",
        "binary_data = grayscale_to_binary(grayscale_data, threshold=128)\n",
        "\n",
        "# Salvando como PPM e PNG\n",
        "save_as_ppm('baccarin_grayscale.ppm', width, height, grayscale_data)\n",
        "save_as_png('baccarin_grayscale.png', width, height, grayscale_data)\n",
        "save_as_ppm('baccarin_binary.ppm', width, height, binary_data)\n",
        "save_as_png('baccarin_binary.png', width, height, binary_data)\n",
        "\n",
        "print(\"Imagem original convertida para escala de cinza e binário.\")\n",
        "\n",
        "# Download dos arquivos gerados\n",
        "for file_name in ['baccarin_grayscale.png', 'baccarin_binary.png']:\n",
        "    files.download(file_name)\n",
        "    print(f\"Download do arquivo: {file_name}\")\n",
        "\n",
        "print(\"O download das imagens foi completado com sucesso.\")\n",
        "\n",
        "\n",
        "\n"
      ],
      "metadata": {
        "colab": {
          "base_uri": "https://localhost:8080/",
          "height": 90
        },
        "id": "f0ATe1HWlP9C",
        "outputId": "7ca37e4d-c748-4da6-c1e8-ce03c63471b0"
      },
      "execution_count": 29,
      "outputs": [
        {
          "output_type": "stream",
          "name": "stdout",
          "text": [
            "Imagem original convertida para escala de cinza e binário.\n"
          ]
        },
        {
          "output_type": "display_data",
          "data": {
            "text/plain": [
              "<IPython.core.display.Javascript object>"
            ],
            "application/javascript": [
              "\n",
              "    async function download(id, filename, size) {\n",
              "      if (!google.colab.kernel.accessAllowed) {\n",
              "        return;\n",
              "      }\n",
              "      const div = document.createElement('div');\n",
              "      const label = document.createElement('label');\n",
              "      label.textContent = `Downloading \"${filename}\": `;\n",
              "      div.appendChild(label);\n",
              "      const progress = document.createElement('progress');\n",
              "      progress.max = size;\n",
              "      div.appendChild(progress);\n",
              "      document.body.appendChild(div);\n",
              "\n",
              "      const buffers = [];\n",
              "      let downloaded = 0;\n",
              "\n",
              "      const channel = await google.colab.kernel.comms.open(id);\n",
              "      // Send a message to notify the kernel that we're ready.\n",
              "      channel.send({})\n",
              "\n",
              "      for await (const message of channel.messages) {\n",
              "        // Send a message to notify the kernel that we're ready.\n",
              "        channel.send({})\n",
              "        if (message.buffers) {\n",
              "          for (const buffer of message.buffers) {\n",
              "            buffers.push(buffer);\n",
              "            downloaded += buffer.byteLength;\n",
              "            progress.value = downloaded;\n",
              "          }\n",
              "        }\n",
              "      }\n",
              "      const blob = new Blob(buffers, {type: 'application/binary'});\n",
              "      const a = document.createElement('a');\n",
              "      a.href = window.URL.createObjectURL(blob);\n",
              "      a.download = filename;\n",
              "      div.appendChild(a);\n",
              "      a.click();\n",
              "      div.remove();\n",
              "    }\n",
              "  "
            ]
          },
          "metadata": {}
        },
        {
          "output_type": "display_data",
          "data": {
            "text/plain": [
              "<IPython.core.display.Javascript object>"
            ],
            "application/javascript": [
              "download(\"download_247ba504-6d81-4c67-b714-7b19901e94ed\", \"baccarin_grayscale.png\", 1024617)"
            ]
          },
          "metadata": {}
        },
        {
          "output_type": "stream",
          "name": "stdout",
          "text": [
            "Download do arquivo: baccarin_grayscale.png\n"
          ]
        },
        {
          "output_type": "display_data",
          "data": {
            "text/plain": [
              "<IPython.core.display.Javascript object>"
            ],
            "application/javascript": [
              "\n",
              "    async function download(id, filename, size) {\n",
              "      if (!google.colab.kernel.accessAllowed) {\n",
              "        return;\n",
              "      }\n",
              "      const div = document.createElement('div');\n",
              "      const label = document.createElement('label');\n",
              "      label.textContent = `Downloading \"${filename}\": `;\n",
              "      div.appendChild(label);\n",
              "      const progress = document.createElement('progress');\n",
              "      progress.max = size;\n",
              "      div.appendChild(progress);\n",
              "      document.body.appendChild(div);\n",
              "\n",
              "      const buffers = [];\n",
              "      let downloaded = 0;\n",
              "\n",
              "      const channel = await google.colab.kernel.comms.open(id);\n",
              "      // Send a message to notify the kernel that we're ready.\n",
              "      channel.send({})\n",
              "\n",
              "      for await (const message of channel.messages) {\n",
              "        // Send a message to notify the kernel that we're ready.\n",
              "        channel.send({})\n",
              "        if (message.buffers) {\n",
              "          for (const buffer of message.buffers) {\n",
              "            buffers.push(buffer);\n",
              "            downloaded += buffer.byteLength;\n",
              "            progress.value = downloaded;\n",
              "          }\n",
              "        }\n",
              "      }\n",
              "      const blob = new Blob(buffers, {type: 'application/binary'});\n",
              "      const a = document.createElement('a');\n",
              "      a.href = window.URL.createObjectURL(blob);\n",
              "      a.download = filename;\n",
              "      div.appendChild(a);\n",
              "      a.click();\n",
              "      div.remove();\n",
              "    }\n",
              "  "
            ]
          },
          "metadata": {}
        },
        {
          "output_type": "display_data",
          "data": {
            "text/plain": [
              "<IPython.core.display.Javascript object>"
            ],
            "application/javascript": [
              "download(\"download_c9070824-4251-489e-ab63-96aa51909825\", \"baccarin_binary.png\", 54579)"
            ]
          },
          "metadata": {}
        },
        {
          "output_type": "stream",
          "name": "stdout",
          "text": [
            "Download do arquivo: baccarin_binary.png\n",
            "O download das imagens foi completado com sucesso.\n"
          ]
        }
      ]
    },
    {
      "cell_type": "code",
      "source": [],
      "metadata": {
        "id": "Te8Kvgvz1Pdf"
      },
      "execution_count": null,
      "outputs": []
    }
  ]
}